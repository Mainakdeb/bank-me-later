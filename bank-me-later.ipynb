{
  "nbformat": 4,
  "nbformat_minor": 0,
  "metadata": {
    "colab": {
      "name": "Copy of bank_marketing_clean.ipynb",
      "provenance": [],
      "collapsed_sections": [],
      "include_colab_link": true
    },
    "kernelspec": {
      "name": "python3",
      "display_name": "Python 3"
    },
    "accelerator": "GPU",
    "widgets": {
      "application/vnd.jupyter.widget-state+json": {
        "fc371121c8f54834a122491d648e2dbe": {
          "model_module": "@jupyter-widgets/controls",
          "model_name": "HBoxModel",
          "state": {
            "_view_name": "HBoxView",
            "_dom_classes": [],
            "_model_name": "HBoxModel",
            "_view_module": "@jupyter-widgets/controls",
            "_model_module_version": "1.5.0",
            "_view_count": null,
            "_view_module_version": "1.5.0",
            "box_style": "",
            "layout": "IPY_MODEL_1b5c9749ef964511b9accd29c77cc3c1",
            "_model_module": "@jupyter-widgets/controls",
            "children": [
              "IPY_MODEL_763418e4f672426fb9ecee1e6f8c956d",
              "IPY_MODEL_08f9114536bb4cb9961cff6cb17fc91f"
            ]
          }
        },
        "1b5c9749ef964511b9accd29c77cc3c1": {
          "model_module": "@jupyter-widgets/base",
          "model_name": "LayoutModel",
          "state": {
            "_view_name": "LayoutView",
            "grid_template_rows": null,
            "right": null,
            "justify_content": null,
            "_view_module": "@jupyter-widgets/base",
            "overflow": null,
            "_model_module_version": "1.2.0",
            "_view_count": null,
            "flex_flow": null,
            "width": null,
            "min_width": null,
            "border": null,
            "align_items": null,
            "bottom": null,
            "_model_module": "@jupyter-widgets/base",
            "top": null,
            "grid_column": null,
            "overflow_y": null,
            "overflow_x": null,
            "grid_auto_flow": null,
            "grid_area": null,
            "grid_template_columns": null,
            "flex": null,
            "_model_name": "LayoutModel",
            "justify_items": null,
            "grid_row": null,
            "max_height": null,
            "align_content": null,
            "visibility": null,
            "align_self": null,
            "height": null,
            "min_height": null,
            "padding": null,
            "grid_auto_rows": null,
            "grid_gap": null,
            "max_width": null,
            "order": null,
            "_view_module_version": "1.2.0",
            "grid_template_areas": null,
            "object_position": null,
            "object_fit": null,
            "grid_auto_columns": null,
            "margin": null,
            "display": null,
            "left": null
          }
        },
        "763418e4f672426fb9ecee1e6f8c956d": {
          "model_module": "@jupyter-widgets/controls",
          "model_name": "FloatProgressModel",
          "state": {
            "_view_name": "ProgressView",
            "style": "IPY_MODEL_d4eade9243024107bd76c46d590b1e31",
            "_dom_classes": [],
            "description": "100%",
            "_model_name": "FloatProgressModel",
            "bar_style": "success",
            "max": 1,
            "_view_module": "@jupyter-widgets/controls",
            "_model_module_version": "1.5.0",
            "value": 1,
            "_view_count": null,
            "_view_module_version": "1.5.0",
            "orientation": "horizontal",
            "min": 0,
            "description_tooltip": null,
            "_model_module": "@jupyter-widgets/controls",
            "layout": "IPY_MODEL_22acad1064d54763b438be01df5a89e4"
          }
        },
        "08f9114536bb4cb9961cff6cb17fc91f": {
          "model_module": "@jupyter-widgets/controls",
          "model_name": "HTMLModel",
          "state": {
            "_view_name": "HTMLView",
            "style": "IPY_MODEL_d7e1353f66914ad2abdcaa519cc5dd9a",
            "_dom_classes": [],
            "description": "",
            "_model_name": "HTMLModel",
            "placeholder": "​",
            "_view_module": "@jupyter-widgets/controls",
            "_model_module_version": "1.5.0",
            "value": " 1/1 [00:18&lt;00:00, 18.39s/it]",
            "_view_count": null,
            "_view_module_version": "1.5.0",
            "description_tooltip": null,
            "_model_module": "@jupyter-widgets/controls",
            "layout": "IPY_MODEL_e4d4e2084be04890b0777701a8e59ac2"
          }
        },
        "d4eade9243024107bd76c46d590b1e31": {
          "model_module": "@jupyter-widgets/controls",
          "model_name": "ProgressStyleModel",
          "state": {
            "_view_name": "StyleView",
            "_model_name": "ProgressStyleModel",
            "description_width": "initial",
            "_view_module": "@jupyter-widgets/base",
            "_model_module_version": "1.5.0",
            "_view_count": null,
            "_view_module_version": "1.2.0",
            "bar_color": null,
            "_model_module": "@jupyter-widgets/controls"
          }
        },
        "22acad1064d54763b438be01df5a89e4": {
          "model_module": "@jupyter-widgets/base",
          "model_name": "LayoutModel",
          "state": {
            "_view_name": "LayoutView",
            "grid_template_rows": null,
            "right": null,
            "justify_content": null,
            "_view_module": "@jupyter-widgets/base",
            "overflow": null,
            "_model_module_version": "1.2.0",
            "_view_count": null,
            "flex_flow": null,
            "width": null,
            "min_width": null,
            "border": null,
            "align_items": null,
            "bottom": null,
            "_model_module": "@jupyter-widgets/base",
            "top": null,
            "grid_column": null,
            "overflow_y": null,
            "overflow_x": null,
            "grid_auto_flow": null,
            "grid_area": null,
            "grid_template_columns": null,
            "flex": null,
            "_model_name": "LayoutModel",
            "justify_items": null,
            "grid_row": null,
            "max_height": null,
            "align_content": null,
            "visibility": null,
            "align_self": null,
            "height": null,
            "min_height": null,
            "padding": null,
            "grid_auto_rows": null,
            "grid_gap": null,
            "max_width": null,
            "order": null,
            "_view_module_version": "1.2.0",
            "grid_template_areas": null,
            "object_position": null,
            "object_fit": null,
            "grid_auto_columns": null,
            "margin": null,
            "display": null,
            "left": null
          }
        },
        "d7e1353f66914ad2abdcaa519cc5dd9a": {
          "model_module": "@jupyter-widgets/controls",
          "model_name": "DescriptionStyleModel",
          "state": {
            "_view_name": "StyleView",
            "_model_name": "DescriptionStyleModel",
            "description_width": "",
            "_view_module": "@jupyter-widgets/base",
            "_model_module_version": "1.5.0",
            "_view_count": null,
            "_view_module_version": "1.2.0",
            "_model_module": "@jupyter-widgets/controls"
          }
        },
        "e4d4e2084be04890b0777701a8e59ac2": {
          "model_module": "@jupyter-widgets/base",
          "model_name": "LayoutModel",
          "state": {
            "_view_name": "LayoutView",
            "grid_template_rows": null,
            "right": null,
            "justify_content": null,
            "_view_module": "@jupyter-widgets/base",
            "overflow": null,
            "_model_module_version": "1.2.0",
            "_view_count": null,
            "flex_flow": null,
            "width": null,
            "min_width": null,
            "border": null,
            "align_items": null,
            "bottom": null,
            "_model_module": "@jupyter-widgets/base",
            "top": null,
            "grid_column": null,
            "overflow_y": null,
            "overflow_x": null,
            "grid_auto_flow": null,
            "grid_area": null,
            "grid_template_columns": null,
            "flex": null,
            "_model_name": "LayoutModel",
            "justify_items": null,
            "grid_row": null,
            "max_height": null,
            "align_content": null,
            "visibility": null,
            "align_self": null,
            "height": null,
            "min_height": null,
            "padding": null,
            "grid_auto_rows": null,
            "grid_gap": null,
            "max_width": null,
            "order": null,
            "_view_module_version": "1.2.0",
            "grid_template_areas": null,
            "object_position": null,
            "object_fit": null,
            "grid_auto_columns": null,
            "margin": null,
            "display": null,
            "left": null
          }
        }
      }
    }
  },
  "cells": [
    {
      "cell_type": "markdown",
      "metadata": {
        "id": "view-in-github",
        "colab_type": "text"
      },
      "source": [
        "<a href=\"https://colab.research.google.com/github/Mainakdeb/bank-me-later/blob/master/bank-me-later.ipynb\" target=\"_parent\"><img src=\"https://colab.research.google.com/assets/colab-badge.svg\" alt=\"Open In Colab\"/></a>"
      ]
    },
    {
      "cell_type": "markdown",
      "metadata": {
        "id": "epRqGXUR8T4C",
        "colab_type": "text"
      },
      "source": [
        "## Background :\n",
        " The data is related with direct marketing campaigns (phone calls) of a Portuguese banking institution. The classification goal is to predict if the client will subscribe a term deposit (variable y)."
      ]
    },
    {
      "cell_type": "code",
      "metadata": {
        "id": "Rmm9-_NH4N_v",
        "colab_type": "code",
        "colab": {}
      },
      "source": [
        "from google.colab import drive\n",
        "drive.mount('/content/drive')"
      ],
      "execution_count": null,
      "outputs": []
    },
    {
      "cell_type": "code",
      "metadata": {
        "id": "c0JN8OLIzqsv",
        "colab_type": "code",
        "colab": {
          "base_uri": "https://localhost:8080/",
          "height": 70
        },
        "outputId": "43942c52-b099-47ad-a2c2-c067260f624b"
      },
      "source": [
        "import pandas as pd\n",
        "import seaborn as sn\n",
        "import numpy as np\n",
        "import matplotlib.pyplot as plt\n",
        "from sklearn.preprocessing import MinMaxScaler\n",
        "import torch\n",
        "from torch import nn, optim\n",
        "import torch.nn.functional as F\n",
        "import tqdm\n",
        "from tqdm import tnrange"
      ],
      "execution_count": 2,
      "outputs": [
        {
          "output_type": "stream",
          "text": [
            "/usr/local/lib/python3.6/dist-packages/statsmodels/tools/_testing.py:19: FutureWarning: pandas.util.testing is deprecated. Use the functions in the public API at pandas.testing instead.\n",
            "  import pandas.util.testing as tm\n"
          ],
          "name": "stderr"
        }
      ]
    },
    {
      "cell_type": "code",
      "metadata": {
        "id": "M5GF2Fui5Ez2",
        "colab_type": "code",
        "colab": {
          "base_uri": "https://localhost:8080/",
          "height": 215
        },
        "outputId": "82005d4f-ec4b-4a6c-dad0-d27459aad2eb"
      },
      "source": [
        "df = pd.read_csv('/content/drive/My Drive/bank-full.csv')\n",
        "df.head()"
      ],
      "execution_count": 3,
      "outputs": [
        {
          "output_type": "execute_result",
          "data": {
            "text/html": [
              "<div>\n",
              "<style scoped>\n",
              "    .dataframe tbody tr th:only-of-type {\n",
              "        vertical-align: middle;\n",
              "    }\n",
              "\n",
              "    .dataframe tbody tr th {\n",
              "        vertical-align: top;\n",
              "    }\n",
              "\n",
              "    .dataframe thead th {\n",
              "        text-align: right;\n",
              "    }\n",
              "</style>\n",
              "<table border=\"1\" class=\"dataframe\">\n",
              "  <thead>\n",
              "    <tr style=\"text-align: right;\">\n",
              "      <th></th>\n",
              "      <th>age;\"job\";\"marital\";\"education\";\"default\";\"balance\";\"housing\";\"loan\";\"contact\";\"day\";\"month\";\"duration\";\"campaign\";\"pdays\";\"previous\";\"poutcome\";\"y\"</th>\n",
              "    </tr>\n",
              "  </thead>\n",
              "  <tbody>\n",
              "    <tr>\n",
              "      <th>0</th>\n",
              "      <td>58;\"management\";\"married\";\"tertiary\";\"no\";2143...</td>\n",
              "    </tr>\n",
              "    <tr>\n",
              "      <th>1</th>\n",
              "      <td>44;\"technician\";\"single\";\"secondary\";\"no\";29;\"...</td>\n",
              "    </tr>\n",
              "    <tr>\n",
              "      <th>2</th>\n",
              "      <td>33;\"entrepreneur\";\"married\";\"secondary\";\"no\";2...</td>\n",
              "    </tr>\n",
              "    <tr>\n",
              "      <th>3</th>\n",
              "      <td>47;\"blue-collar\";\"married\";\"unknown\";\"no\";1506...</td>\n",
              "    </tr>\n",
              "    <tr>\n",
              "      <th>4</th>\n",
              "      <td>33;\"unknown\";\"single\";\"unknown\";\"no\";1;\"no\";\"n...</td>\n",
              "    </tr>\n",
              "  </tbody>\n",
              "</table>\n",
              "</div>"
            ],
            "text/plain": [
              "  age;\"job\";\"marital\";\"education\";\"default\";\"balance\";\"housing\";\"loan\";\"contact\";\"day\";\"month\";\"duration\";\"campaign\";\"pdays\";\"previous\";\"poutcome\";\"y\"\n",
              "0  58;\"management\";\"married\";\"tertiary\";\"no\";2143...                                                                                                  \n",
              "1  44;\"technician\";\"single\";\"secondary\";\"no\";29;\"...                                                                                                  \n",
              "2  33;\"entrepreneur\";\"married\";\"secondary\";\"no\";2...                                                                                                  \n",
              "3  47;\"blue-collar\";\"married\";\"unknown\";\"no\";1506...                                                                                                  \n",
              "4  33;\"unknown\";\"single\";\"unknown\";\"no\";1;\"no\";\"n...                                                                                                  "
            ]
          },
          "metadata": {
            "tags": []
          },
          "execution_count": 3
        }
      ]
    },
    {
      "cell_type": "markdown",
      "metadata": {
        "id": "xxAdmTM9qnkU",
        "colab_type": "text"
      },
      "source": [
        "## Split Columns :\n",
        "\n",
        "\n"
      ]
    },
    {
      "cell_type": "code",
      "metadata": {
        "id": "Xi-Qc_115F6l",
        "colab_type": "code",
        "colab": {
          "base_uri": "https://localhost:8080/",
          "height": 232
        },
        "outputId": "617ecf4c-8735-411e-b2d2-e219324c8a06"
      },
      "source": [
        "split_data = df['age;\"job\";\"marital\";\"education\";\"default\";\"balance\";\"housing\";\"loan\";\"contact\";\"day\";\"month\";\"duration\";\"campaign\";\"pdays\";\"previous\";\"poutcome\";\"y\"'].str.split(\";\")\n",
        "\n",
        "data = split_data.to_list()\n",
        "\n",
        "names = [\"Age\", \n",
        "         \"Job\", \n",
        "         \"Marital-status\", \n",
        "         \"Education\", \n",
        "         \"Default\", \n",
        "         \"Balance\", \n",
        "         \"Housing\", \n",
        "         \"Loan\", \n",
        "         \"Contact\", \n",
        "         \"Day\", \n",
        "         \"Month\", \n",
        "         \"Duration\", \n",
        "         \"Campaign\", \n",
        "         \"Prev-days\", \n",
        "         \"Prev-contacts\", \n",
        "         \"Prev-outcome\", \n",
        "         \"y\"]\n",
        "\n",
        "df2 = pd.DataFrame(data, columns=names)\n",
        "df2.head()"
      ],
      "execution_count": 4,
      "outputs": [
        {
          "output_type": "execute_result",
          "data": {
            "text/html": [
              "<div>\n",
              "<style scoped>\n",
              "    .dataframe tbody tr th:only-of-type {\n",
              "        vertical-align: middle;\n",
              "    }\n",
              "\n",
              "    .dataframe tbody tr th {\n",
              "        vertical-align: top;\n",
              "    }\n",
              "\n",
              "    .dataframe thead th {\n",
              "        text-align: right;\n",
              "    }\n",
              "</style>\n",
              "<table border=\"1\" class=\"dataframe\">\n",
              "  <thead>\n",
              "    <tr style=\"text-align: right;\">\n",
              "      <th></th>\n",
              "      <th>Age</th>\n",
              "      <th>Job</th>\n",
              "      <th>Marital-status</th>\n",
              "      <th>Education</th>\n",
              "      <th>Default</th>\n",
              "      <th>Balance</th>\n",
              "      <th>Housing</th>\n",
              "      <th>Loan</th>\n",
              "      <th>Contact</th>\n",
              "      <th>Day</th>\n",
              "      <th>Month</th>\n",
              "      <th>Duration</th>\n",
              "      <th>Campaign</th>\n",
              "      <th>Prev-days</th>\n",
              "      <th>Prev-contacts</th>\n",
              "      <th>Prev-outcome</th>\n",
              "      <th>y</th>\n",
              "    </tr>\n",
              "  </thead>\n",
              "  <tbody>\n",
              "    <tr>\n",
              "      <th>0</th>\n",
              "      <td>58</td>\n",
              "      <td>\"management\"</td>\n",
              "      <td>\"married\"</td>\n",
              "      <td>\"tertiary\"</td>\n",
              "      <td>\"no\"</td>\n",
              "      <td>2143</td>\n",
              "      <td>\"yes\"</td>\n",
              "      <td>\"no\"</td>\n",
              "      <td>\"unknown\"</td>\n",
              "      <td>5</td>\n",
              "      <td>\"may\"</td>\n",
              "      <td>261</td>\n",
              "      <td>1</td>\n",
              "      <td>-1</td>\n",
              "      <td>0</td>\n",
              "      <td>\"unknown\"</td>\n",
              "      <td>\"no\"</td>\n",
              "    </tr>\n",
              "    <tr>\n",
              "      <th>1</th>\n",
              "      <td>44</td>\n",
              "      <td>\"technician\"</td>\n",
              "      <td>\"single\"</td>\n",
              "      <td>\"secondary\"</td>\n",
              "      <td>\"no\"</td>\n",
              "      <td>29</td>\n",
              "      <td>\"yes\"</td>\n",
              "      <td>\"no\"</td>\n",
              "      <td>\"unknown\"</td>\n",
              "      <td>5</td>\n",
              "      <td>\"may\"</td>\n",
              "      <td>151</td>\n",
              "      <td>1</td>\n",
              "      <td>-1</td>\n",
              "      <td>0</td>\n",
              "      <td>\"unknown\"</td>\n",
              "      <td>\"no\"</td>\n",
              "    </tr>\n",
              "    <tr>\n",
              "      <th>2</th>\n",
              "      <td>33</td>\n",
              "      <td>\"entrepreneur\"</td>\n",
              "      <td>\"married\"</td>\n",
              "      <td>\"secondary\"</td>\n",
              "      <td>\"no\"</td>\n",
              "      <td>2</td>\n",
              "      <td>\"yes\"</td>\n",
              "      <td>\"yes\"</td>\n",
              "      <td>\"unknown\"</td>\n",
              "      <td>5</td>\n",
              "      <td>\"may\"</td>\n",
              "      <td>76</td>\n",
              "      <td>1</td>\n",
              "      <td>-1</td>\n",
              "      <td>0</td>\n",
              "      <td>\"unknown\"</td>\n",
              "      <td>\"no\"</td>\n",
              "    </tr>\n",
              "    <tr>\n",
              "      <th>3</th>\n",
              "      <td>47</td>\n",
              "      <td>\"blue-collar\"</td>\n",
              "      <td>\"married\"</td>\n",
              "      <td>\"unknown\"</td>\n",
              "      <td>\"no\"</td>\n",
              "      <td>1506</td>\n",
              "      <td>\"yes\"</td>\n",
              "      <td>\"no\"</td>\n",
              "      <td>\"unknown\"</td>\n",
              "      <td>5</td>\n",
              "      <td>\"may\"</td>\n",
              "      <td>92</td>\n",
              "      <td>1</td>\n",
              "      <td>-1</td>\n",
              "      <td>0</td>\n",
              "      <td>\"unknown\"</td>\n",
              "      <td>\"no\"</td>\n",
              "    </tr>\n",
              "    <tr>\n",
              "      <th>4</th>\n",
              "      <td>33</td>\n",
              "      <td>\"unknown\"</td>\n",
              "      <td>\"single\"</td>\n",
              "      <td>\"unknown\"</td>\n",
              "      <td>\"no\"</td>\n",
              "      <td>1</td>\n",
              "      <td>\"no\"</td>\n",
              "      <td>\"no\"</td>\n",
              "      <td>\"unknown\"</td>\n",
              "      <td>5</td>\n",
              "      <td>\"may\"</td>\n",
              "      <td>198</td>\n",
              "      <td>1</td>\n",
              "      <td>-1</td>\n",
              "      <td>0</td>\n",
              "      <td>\"unknown\"</td>\n",
              "      <td>\"no\"</td>\n",
              "    </tr>\n",
              "  </tbody>\n",
              "</table>\n",
              "</div>"
            ],
            "text/plain": [
              "  Age             Job Marital-status  ... Prev-contacts Prev-outcome     y\n",
              "0  58    \"management\"      \"married\"  ...             0    \"unknown\"  \"no\"\n",
              "1  44    \"technician\"       \"single\"  ...             0    \"unknown\"  \"no\"\n",
              "2  33  \"entrepreneur\"      \"married\"  ...             0    \"unknown\"  \"no\"\n",
              "3  47   \"blue-collar\"      \"married\"  ...             0    \"unknown\"  \"no\"\n",
              "4  33       \"unknown\"       \"single\"  ...             0    \"unknown\"  \"no\"\n",
              "\n",
              "[5 rows x 17 columns]"
            ]
          },
          "metadata": {
            "tags": []
          },
          "execution_count": 4
        }
      ]
    },
    {
      "cell_type": "markdown",
      "metadata": {
        "id": "-up8-OTgq6Ba",
        "colab_type": "text"
      },
      "source": [
        "## Check for null values :"
      ]
    },
    {
      "cell_type": "code",
      "metadata": {
        "id": "SWuTMAdy5F3L",
        "colab_type": "code",
        "colab": {
          "base_uri": "https://localhost:8080/",
          "height": 731
        },
        "outputId": "aed5f313-5c0c-448f-e564-e1499038d3e1"
      },
      "source": [
        "sn.heatmap(df2.isnull(), yticklabels=False)\n",
        "df2.info()"
      ],
      "execution_count": 5,
      "outputs": [
        {
          "output_type": "stream",
          "text": [
            "<class 'pandas.core.frame.DataFrame'>\n",
            "RangeIndex: 45211 entries, 0 to 45210\n",
            "Data columns (total 17 columns):\n",
            " #   Column          Non-Null Count  Dtype \n",
            "---  ------          --------------  ----- \n",
            " 0   Age             45211 non-null  object\n",
            " 1   Job             45211 non-null  object\n",
            " 2   Marital-status  45211 non-null  object\n",
            " 3   Education       45211 non-null  object\n",
            " 4   Default         45211 non-null  object\n",
            " 5   Balance         45211 non-null  object\n",
            " 6   Housing         45211 non-null  object\n",
            " 7   Loan            45211 non-null  object\n",
            " 8   Contact         45211 non-null  object\n",
            " 9   Day             45211 non-null  object\n",
            " 10  Month           45211 non-null  object\n",
            " 11  Duration        45211 non-null  object\n",
            " 12  Campaign        45211 non-null  object\n",
            " 13  Prev-days       45211 non-null  object\n",
            " 14  Prev-contacts   45211 non-null  object\n",
            " 15  Prev-outcome    45211 non-null  object\n",
            " 16  y               45211 non-null  object\n",
            "dtypes: object(17)\n",
            "memory usage: 5.9+ MB\n"
          ],
          "name": "stdout"
        },
        {
          "output_type": "display_data",
          "data": {
            "image/png": "[encoded data removed]",
            "text/plain": [
              "<Figure size 432x288 with 2 Axes>"
            ]
          },
          "metadata": {
            "tags": [],
            "needs_background": "light"
          }
        }
      ]
    },
    {
      "cell_type": "markdown",
      "metadata": {
        "id": "QG4jPUfbrRFP",
        "colab_type": "text"
      },
      "source": [
        "## Encode Categorical Columns :"
      ]
    },
    {
      "cell_type": "code",
      "metadata": {
        "id": "Lm0-6i5F5F00",
        "colab_type": "code",
        "colab": {
          "base_uri": "https://localhost:8080/",
          "height": 232
        },
        "outputId": "ec7951c1-2016-4120-d6de-d4a67095d5c8"
      },
      "source": [
        "def convert_categorical(category, df):\n",
        "    s = str(category)\n",
        "    df = pd.get_dummies(df, columns=[s])\n",
        "    return df\n",
        "\n",
        "def encode_df(df):\n",
        "    \n",
        "    df_encoded = convert_categorical('Job', df)\n",
        "    df_encoded = convert_categorical('Marital-status', df_encoded)\n",
        "    df_encoded = convert_categorical('Education', df_encoded)\n",
        "    df_encoded = convert_categorical('Default', df_encoded)\n",
        "    df_encoded = convert_categorical('Housing', df_encoded)\n",
        "    df_encoded = convert_categorical('Loan', df_encoded)\n",
        "    df_encoded = convert_categorical('Contact', df_encoded)\n",
        "    df_encoded = convert_categorical('Month', df_encoded)\n",
        "    df_encoded = convert_categorical('y', df_encoded)\n",
        "    df_encoded1 = convert_categorical('Prev-outcome', df_encoded)\n",
        "  \n",
        "    return(df_encoded1)\n",
        "\n",
        "df_encoded = encode_df(df2)\n",
        "df_encoded.head()"
      ],
      "execution_count": 6,
      "outputs": [
        {
          "output_type": "execute_result",
          "data": {
            "text/html": [
              "<div>\n",
              "<style scoped>\n",
              "    .dataframe tbody tr th:only-of-type {\n",
              "        vertical-align: middle;\n",
              "    }\n",
              "\n",
              "    .dataframe tbody tr th {\n",
              "        vertical-align: top;\n",
              "    }\n",
              "\n",
              "    .dataframe thead th {\n",
              "        text-align: right;\n",
              "    }\n",
              "</style>\n",
              "<table border=\"1\" class=\"dataframe\">\n",
              "  <thead>\n",
              "    <tr style=\"text-align: right;\">\n",
              "      <th></th>\n",
              "      <th>Age</th>\n",
              "      <th>Balance</th>\n",
              "      <th>Day</th>\n",
              "      <th>Duration</th>\n",
              "      <th>Campaign</th>\n",
              "      <th>Prev-days</th>\n",
              "      <th>Prev-contacts</th>\n",
              "      <th>Job_\"admin.\"</th>\n",
              "      <th>Job_\"blue-collar\"</th>\n",
              "      <th>Job_\"entrepreneur\"</th>\n",
              "      <th>Job_\"housemaid\"</th>\n",
              "      <th>Job_\"management\"</th>\n",
              "      <th>Job_\"retired\"</th>\n",
              "      <th>Job_\"self-employed\"</th>\n",
              "      <th>Job_\"services\"</th>\n",
              "      <th>Job_\"student\"</th>\n",
              "      <th>Job_\"technician\"</th>\n",
              "      <th>Job_\"unemployed\"</th>\n",
              "      <th>Job_\"unknown\"</th>\n",
              "      <th>Marital-status_\"divorced\"</th>\n",
              "      <th>Marital-status_\"married\"</th>\n",
              "      <th>Marital-status_\"single\"</th>\n",
              "      <th>Education_\"primary\"</th>\n",
              "      <th>Education_\"secondary\"</th>\n",
              "      <th>Education_\"tertiary\"</th>\n",
              "      <th>Education_\"unknown\"</th>\n",
              "      <th>Default_\"no\"</th>\n",
              "      <th>Default_\"yes\"</th>\n",
              "      <th>Housing_\"no\"</th>\n",
              "      <th>Housing_\"yes\"</th>\n",
              "      <th>Loan_\"no\"</th>\n",
              "      <th>Loan_\"yes\"</th>\n",
              "      <th>Contact_\"cellular\"</th>\n",
              "      <th>Contact_\"telephone\"</th>\n",
              "      <th>Contact_\"unknown\"</th>\n",
              "      <th>Month_\"apr\"</th>\n",
              "      <th>Month_\"aug\"</th>\n",
              "      <th>Month_\"dec\"</th>\n",
              "      <th>Month_\"feb\"</th>\n",
              "      <th>Month_\"jan\"</th>\n",
              "      <th>Month_\"jul\"</th>\n",
              "      <th>Month_\"jun\"</th>\n",
              "      <th>Month_\"mar\"</th>\n",
              "      <th>Month_\"may\"</th>\n",
              "      <th>Month_\"nov\"</th>\n",
              "      <th>Month_\"oct\"</th>\n",
              "      <th>Month_\"sep\"</th>\n",
              "      <th>y_\"no\"</th>\n",
              "      <th>y_\"yes\"</th>\n",
              "      <th>Prev-outcome_\"failure\"</th>\n",
              "      <th>Prev-outcome_\"other\"</th>\n",
              "      <th>Prev-outcome_\"success\"</th>\n",
              "      <th>Prev-outcome_\"unknown\"</th>\n",
              "    </tr>\n",
              "  </thead>\n",
              "  <tbody>\n",
              "    <tr>\n",
              "      <th>0</th>\n",
              "      <td>58</td>\n",
              "      <td>2143</td>\n",
              "      <td>5</td>\n",
              "      <td>261</td>\n",
              "      <td>1</td>\n",
              "      <td>-1</td>\n",
              "      <td>0</td>\n",
              "      <td>0</td>\n",
              "      <td>0</td>\n",
              "      <td>0</td>\n",
              "      <td>0</td>\n",
              "      <td>1</td>\n",
              "      <td>0</td>\n",
              "      <td>0</td>\n",
              "      <td>0</td>\n",
              "      <td>0</td>\n",
              "      <td>0</td>\n",
              "      <td>0</td>\n",
              "      <td>0</td>\n",
              "      <td>0</td>\n",
              "      <td>1</td>\n",
              "      <td>0</td>\n",
              "      <td>0</td>\n",
              "      <td>0</td>\n",
              "      <td>1</td>\n",
              "      <td>0</td>\n",
              "      <td>1</td>\n",
              "      <td>0</td>\n",
              "      <td>0</td>\n",
              "      <td>1</td>\n",
              "      <td>1</td>\n",
              "      <td>0</td>\n",
              "      <td>0</td>\n",
              "      <td>0</td>\n",
              "      <td>1</td>\n",
              "      <td>0</td>\n",
              "      <td>0</td>\n",
              "      <td>0</td>\n",
              "      <td>0</td>\n",
              "      <td>0</td>\n",
              "      <td>0</td>\n",
              "      <td>0</td>\n",
              "      <td>0</td>\n",
              "      <td>1</td>\n",
              "      <td>0</td>\n",
              "      <td>0</td>\n",
              "      <td>0</td>\n",
              "      <td>1</td>\n",
              "      <td>0</td>\n",
              "      <td>0</td>\n",
              "      <td>0</td>\n",
              "      <td>0</td>\n",
              "      <td>1</td>\n",
              "    </tr>\n",
              "    <tr>\n",
              "      <th>1</th>\n",
              "      <td>44</td>\n",
              "      <td>29</td>\n",
              "      <td>5</td>\n",
              "      <td>151</td>\n",
              "      <td>1</td>\n",
              "      <td>-1</td>\n",
              "      <td>0</td>\n",
              "      <td>0</td>\n",
              "      <td>0</td>\n",
              "      <td>0</td>\n",
              "      <td>0</td>\n",
              "      <td>0</td>\n",
              "      <td>0</td>\n",
              "      <td>0</td>\n",
              "      <td>0</td>\n",
              "      <td>0</td>\n",
              "      <td>1</td>\n",
              "      <td>0</td>\n",
              "      <td>0</td>\n",
              "      <td>0</td>\n",
              "      <td>0</td>\n",
              "      <td>1</td>\n",
              "      <td>0</td>\n",
              "      <td>1</td>\n",
              "      <td>0</td>\n",
              "      <td>0</td>\n",
              "      <td>1</td>\n",
              "      <td>0</td>\n",
              "      <td>0</td>\n",
              "      <td>1</td>\n",
              "      <td>1</td>\n",
              "      <td>0</td>\n",
              "      <td>0</td>\n",
              "      <td>0</td>\n",
              "      <td>1</td>\n",
              "      <td>0</td>\n",
              "      <td>0</td>\n",
              "      <td>0</td>\n",
              "      <td>0</td>\n",
              "      <td>0</td>\n",
              "      <td>0</td>\n",
              "      <td>0</td>\n",
              "      <td>0</td>\n",
              "      <td>1</td>\n",
              "      <td>0</td>\n",
              "      <td>0</td>\n",
              "      <td>0</td>\n",
              "      <td>1</td>\n",
              "      <td>0</td>\n",
              "      <td>0</td>\n",
              "      <td>0</td>\n",
              "      <td>0</td>\n",
              "      <td>1</td>\n",
              "    </tr>\n",
              "    <tr>\n",
              "      <th>2</th>\n",
              "      <td>33</td>\n",
              "      <td>2</td>\n",
              "      <td>5</td>\n",
              "      <td>76</td>\n",
              "      <td>1</td>\n",
              "      <td>-1</td>\n",
              "      <td>0</td>\n",
              "      <td>0</td>\n",
              "      <td>0</td>\n",
              "      <td>1</td>\n",
              "      <td>0</td>\n",
              "      <td>0</td>\n",
              "      <td>0</td>\n",
              "      <td>0</td>\n",
              "      <td>0</td>\n",
              "      <td>0</td>\n",
              "      <td>0</td>\n",
              "      <td>0</td>\n",
              "      <td>0</td>\n",
              "      <td>0</td>\n",
              "      <td>1</td>\n",
              "      <td>0</td>\n",
              "      <td>0</td>\n",
              "      <td>1</td>\n",
              "      <td>0</td>\n",
              "      <td>0</td>\n",
              "      <td>1</td>\n",
              "      <td>0</td>\n",
              "      <td>0</td>\n",
              "      <td>1</td>\n",
              "      <td>0</td>\n",
              "      <td>1</td>\n",
              "      <td>0</td>\n",
              "      <td>0</td>\n",
              "      <td>1</td>\n",
              "      <td>0</td>\n",
              "      <td>0</td>\n",
              "      <td>0</td>\n",
              "      <td>0</td>\n",
              "      <td>0</td>\n",
              "      <td>0</td>\n",
              "      <td>0</td>\n",
              "      <td>0</td>\n",
              "      <td>1</td>\n",
              "      <td>0</td>\n",
              "      <td>0</td>\n",
              "      <td>0</td>\n",
              "      <td>1</td>\n",
              "      <td>0</td>\n",
              "      <td>0</td>\n",
              "      <td>0</td>\n",
              "      <td>0</td>\n",
              "      <td>1</td>\n",
              "    </tr>\n",
              "    <tr>\n",
              "      <th>3</th>\n",
              "      <td>47</td>\n",
              "      <td>1506</td>\n",
              "      <td>5</td>\n",
              "      <td>92</td>\n",
              "      <td>1</td>\n",
              "      <td>-1</td>\n",
              "      <td>0</td>\n",
              "      <td>0</td>\n",
              "      <td>1</td>\n",
              "      <td>0</td>\n",
              "      <td>0</td>\n",
              "      <td>0</td>\n",
              "      <td>0</td>\n",
              "      <td>0</td>\n",
              "      <td>0</td>\n",
              "      <td>0</td>\n",
              "      <td>0</td>\n",
              "      <td>0</td>\n",
              "      <td>0</td>\n",
              "      <td>0</td>\n",
              "      <td>1</td>\n",
              "      <td>0</td>\n",
              "      <td>0</td>\n",
              "      <td>0</td>\n",
              "      <td>0</td>\n",
              "      <td>1</td>\n",
              "      <td>1</td>\n",
              "      <td>0</td>\n",
              "      <td>0</td>\n",
              "      <td>1</td>\n",
              "      <td>1</td>\n",
              "      <td>0</td>\n",
              "      <td>0</td>\n",
              "      <td>0</td>\n",
              "      <td>1</td>\n",
              "      <td>0</td>\n",
              "      <td>0</td>\n",
              "      <td>0</td>\n",
              "      <td>0</td>\n",
              "      <td>0</td>\n",
              "      <td>0</td>\n",
              "      <td>0</td>\n",
              "      <td>0</td>\n",
              "      <td>1</td>\n",
              "      <td>0</td>\n",
              "      <td>0</td>\n",
              "      <td>0</td>\n",
              "      <td>1</td>\n",
              "      <td>0</td>\n",
              "      <td>0</td>\n",
              "      <td>0</td>\n",
              "      <td>0</td>\n",
              "      <td>1</td>\n",
              "    </tr>\n",
              "    <tr>\n",
              "      <th>4</th>\n",
              "      <td>33</td>\n",
              "      <td>1</td>\n",
              "      <td>5</td>\n",
              "      <td>198</td>\n",
              "      <td>1</td>\n",
              "      <td>-1</td>\n",
              "      <td>0</td>\n",
              "      <td>0</td>\n",
              "      <td>0</td>\n",
              "      <td>0</td>\n",
              "      <td>0</td>\n",
              "      <td>0</td>\n",
              "      <td>0</td>\n",
              "      <td>0</td>\n",
              "      <td>0</td>\n",
              "      <td>0</td>\n",
              "      <td>0</td>\n",
              "      <td>0</td>\n",
              "      <td>1</td>\n",
              "      <td>0</td>\n",
              "      <td>0</td>\n",
              "      <td>1</td>\n",
              "      <td>0</td>\n",
              "      <td>0</td>\n",
              "      <td>0</td>\n",
              "      <td>1</td>\n",
              "      <td>1</td>\n",
              "      <td>0</td>\n",
              "      <td>1</td>\n",
              "      <td>0</td>\n",
              "      <td>1</td>\n",
              "      <td>0</td>\n",
              "      <td>0</td>\n",
              "      <td>0</td>\n",
              "      <td>1</td>\n",
              "      <td>0</td>\n",
              "      <td>0</td>\n",
              "      <td>0</td>\n",
              "      <td>0</td>\n",
              "      <td>0</td>\n",
              "      <td>0</td>\n",
              "      <td>0</td>\n",
              "      <td>0</td>\n",
              "      <td>1</td>\n",
              "      <td>0</td>\n",
              "      <td>0</td>\n",
              "      <td>0</td>\n",
              "      <td>1</td>\n",
              "      <td>0</td>\n",
              "      <td>0</td>\n",
              "      <td>0</td>\n",
              "      <td>0</td>\n",
              "      <td>1</td>\n",
              "    </tr>\n",
              "  </tbody>\n",
              "</table>\n",
              "</div>"
            ],
            "text/plain": [
              "  Age Balance  ... Prev-outcome_\"success\" Prev-outcome_\"unknown\"\n",
              "0  58    2143  ...                      0                      1\n",
              "1  44      29  ...                      0                      1\n",
              "2  33       2  ...                      0                      1\n",
              "3  47    1506  ...                      0                      1\n",
              "4  33       1  ...                      0                      1\n",
              "\n",
              "[5 rows x 53 columns]"
            ]
          },
          "metadata": {
            "tags": []
          },
          "execution_count": 6
        }
      ]
    },
    {
      "cell_type": "markdown",
      "metadata": {
        "id": "UsJ1fsB1rYIN",
        "colab_type": "text"
      },
      "source": [
        "## Convert all values to float :"
      ]
    },
    {
      "cell_type": "code",
      "metadata": {
        "id": "cfjNgmGD5Hds",
        "colab_type": "code",
        "colab": {}
      },
      "source": [
        " df1 = df_encoded.astype(float)"
      ],
      "execution_count": 7,
      "outputs": []
    },
    {
      "cell_type": "markdown",
      "metadata": {
        "id": "QkInCU5T3FxA",
        "colab_type": "text"
      },
      "source": [
        "## Are the classes balanced?\n",
        "\n",
        "The classes are :\n",
        "* 0 => The person did not subscribe.\n",
        "* 1 => The person subscribed to the term deposit."
      ]
    },
    {
      "cell_type": "code",
      "metadata": {
        "id": "wAl3S8F0rhXA",
        "colab_type": "code",
        "colab": {
          "base_uri": "https://localhost:8080/",
          "height": 67
        },
        "outputId": "f0244f72-956b-4353-e8fd-6568b516d7c1"
      },
      "source": [
        " df1['y_\"yes\"'].value_counts()"
      ],
      "execution_count": 10,
      "outputs": [
        {
          "output_type": "execute_result",
          "data": {
            "text/plain": [
              "1.0    39922\n",
              "0.0    39922\n",
              "Name: y_\"yes\", dtype: int64"
            ]
          },
          "metadata": {
            "tags": []
          },
          "execution_count": 10
        }
      ]
    },
    {
      "cell_type": "markdown",
      "metadata": {
        "id": "BjAU_zxr6XA-",
        "colab_type": "text"
      },
      "source": [
        "### The classes are not balanced. Running the following cell will oversample the minority class.\n"
      ]
    },
    {
      "cell_type": "code",
      "metadata": {
        "id": "5IRgtYp0lP9e",
        "colab_type": "code",
        "colab": {
          "base_uri": "https://localhost:8080/",
          "height": 67
        },
        "outputId": "c72b0bfa-3780-418e-db36-871c433d43f1"
      },
      "source": [
        "max_size = df1['y_\"yes\"'].value_counts().max()\n",
        "lst = [df1]\n",
        "for class_index, group in df1.groupby('y_\"yes\"'):\n",
        "    lst.append(group.sample(max_size-len(group), replace=True))\n",
        "frame_new = pd.concat(lst)\n",
        "df1=frame_new\n",
        "df1['y_\"yes\"'].value_counts()"
      ],
      "execution_count": 9,
      "outputs": [
        {
          "output_type": "execute_result",
          "data": {
            "text/plain": [
              "1.0    39922\n",
              "0.0    39922\n",
              "Name: y_\"yes\", dtype: int64"
            ]
          },
          "metadata": {
            "tags": []
          },
          "execution_count": 9
        }
      ]
    },
    {
      "cell_type": "markdown",
      "metadata": {
        "id": "IcJQldTY6a3M",
        "colab_type": "text"
      },
      "source": [
        "## Scale all values :"
      ]
    },
    {
      "cell_type": "code",
      "metadata": {
        "id": "THqdvc5v6gI4",
        "colab_type": "code",
        "colab": {}
      },
      "source": [
        "scaler = MinMaxScaler()\n",
        "df_scaled = pd.DataFrame(scaler.fit_transform(df1), columns = df1.columns)"
      ],
      "execution_count": null,
      "outputs": []
    },
    {
      "cell_type": "markdown",
      "metadata": {
        "id": "KePUOvIX6cXF",
        "colab_type": "text"
      },
      "source": [
        "## Drop an unnecessary column :"
      ]
    },
    {
      "cell_type": "code",
      "metadata": {
        "id": "8a-HbKFiEpL0",
        "colab_type": "code",
        "colab": {}
      },
      "source": [
        "df_scaled.drop(['y_\"no\"'], axis=1, inplace=True)"
      ],
      "execution_count": null,
      "outputs": []
    },
    {
      "cell_type": "markdown",
      "metadata": {
        "id": "-oXtI32t6gZQ",
        "colab_type": "text"
      },
      "source": [
        "## Shuffle Columns :"
      ]
    },
    {
      "cell_type": "code",
      "metadata": {
        "id": "szD3p0kDEpQx",
        "colab_type": "code",
        "colab": {
          "base_uri": "https://localhost:8080/",
          "height": 34
        },
        "outputId": "433a3029-5063-4121-bec1-b8f743ffc43e"
      },
      "source": [
        "df_shuffled=df_scaled.sample(frac=1)\n",
        "print(len(df_shuffled))"
      ],
      "execution_count": null,
      "outputs": [
        {
          "output_type": "stream",
          "text": [
            "79844\n"
          ],
          "name": "stdout"
        }
      ]
    },
    {
      "cell_type": "markdown",
      "metadata": {
        "id": "3wTXYosl6mX2",
        "colab_type": "text"
      },
      "source": [
        "### Split the data into train, test and validation sets :"
      ]
    },
    {
      "cell_type": "code",
      "metadata": {
        "id": "GJ004in0EpI0",
        "colab_type": "code",
        "colab": {}
      },
      "source": [
        "train = df_shuffled.iloc[:70000]\n",
        "val = df_shuffled.iloc[70000:75000]\n",
        "test = df_shuffled.iloc[75000:]"
      ],
      "execution_count": null,
      "outputs": []
    },
    {
      "cell_type": "markdown",
      "metadata": {
        "id": "f4Xp_iuT7DHk",
        "colab_type": "text"
      },
      "source": [
        "### Split the dataframes into features and labels :"
      ]
    },
    {
      "cell_type": "code",
      "metadata": {
        "id": "KKPCFINIL3X-",
        "colab_type": "code",
        "colab": {
          "base_uri": "https://localhost:8080/",
          "height": 52
        },
        "outputId": "39de4786-c4ab-429b-e2de-5a343c0e5cf0"
      },
      "source": [
        "X_train, y_train= train.drop('y_\"yes\"', axis=1), train['y_\"yes\"']\n",
        "print(X_train.shape)\n",
        "\n",
        "X_val, y_val = val.drop('y_\"yes\"', axis=1), val['y_\"yes\"']\n",
        "print(X_val.shape)\n",
        "\n",
        "X_test, y_test = test.drop('y_\"yes\"', axis=1), test['y_\"yes\"']"
      ],
      "execution_count": null,
      "outputs": [
        {
          "output_type": "stream",
          "text": [
            "(70000, 51)\n",
            "(5000, 51)\n"
          ],
          "name": "stdout"
        }
      ]
    },
    {
      "cell_type": "markdown",
      "metadata": {
        "id": "CmRdMkBY7Ukk",
        "colab_type": "text"
      },
      "source": [
        "### Form batches of tensors :"
      ]
    },
    {
      "cell_type": "code",
      "metadata": {
        "id": "JNzhqXnaL3No",
        "colab_type": "code",
        "colab": {
          "base_uri": "https://localhost:8080/",
          "height": 52
        },
        "outputId": "00e2341b-ab7c-4fcc-8645-ed5f22fd89ea"
      },
      "source": [
        "f=200 # no. of batches\n",
        "\n",
        "train_batch = np.array_split(X_train, f) \n",
        "label_batch = np.array_split(y_train, f) # 50 sections/batches\n",
        "\n",
        "val_batch = np.array_split(X_val, f)\n",
        "val_label_batch = np.array_split(y_val, f)\n",
        "\n",
        "test_batch = np.array_split(X_test,f) \n",
        "test_label_batch  = np.array_split(y_test, f)\n",
        "\n",
        "\n",
        "for i in range(len(train_batch)):\n",
        "    train_batch[i] = torch.from_numpy(train_batch[i].values).float()\n",
        "    train_batch[i] = train_batch[i]\n",
        "for i in range(len(label_batch)):\n",
        "    label_batch[i] = torch.from_numpy(label_batch[i].values).float().view(-1, 1)\n",
        "    \n",
        "for i in range(len(val_batch)):\n",
        "    val_batch[i] = torch.from_numpy(val_batch[i].values).float()\n",
        "for i in range(len(val_label_batch)):\n",
        "    val_label_batch[i] = torch.from_numpy(val_label_batch[i].values).float().view(-1, 1)\n",
        "    \n",
        "    \n",
        "for i in range(len(test_batch)):\n",
        "    test_batch[i] = torch.from_numpy(test_batch[i].values).float()\n",
        "for i in range(len(test_label_batch)):\n",
        "    test_label_batch[i] = torch.from_numpy(test_label_batch[i].values).float().view(-1, 1)\n",
        "    \n",
        "print(\"Batch size:\", len(train_batch[0]))\n",
        "\n",
        "print(type(train_batch))"
      ],
      "execution_count": null,
      "outputs": [
        {
          "output_type": "stream",
          "text": [
            "Batch size: 350\n",
            "<class 'list'>\n"
          ],
          "name": "stdout"
        }
      ]
    },
    {
      "cell_type": "markdown",
      "metadata": {
        "id": "eoYkKgiZ7ccG",
        "colab_type": "text"
      },
      "source": [
        "### Define the Neural Net :\n",
        "The input layer contains 51 neurons, each corresponding to a single feature. The output layer has only one neuron."
      ]
    },
    {
      "cell_type": "code",
      "metadata": {
        "id": "MnR0EjGWv4Bf",
        "colab_type": "code",
        "colab": {}
      },
      "source": [
        "class Regressor(nn.Module):\n",
        "    def __init__(self):\n",
        "        super().__init__()\n",
        "        \n",
        "        self.fc1 = nn.Linear(51, 128)\n",
        "        self.fc2 = nn.Linear(128, 128)\n",
        "        self.fc3 = nn.Linear(128, 128)\n",
        "        self.fc4 = nn.Linear(128, 128)\n",
        "        self.fc5 = nn.Linear(128, 64)\n",
        "        self.fc6 = nn.Linear(64, 32)\n",
        "        self.fc7 = nn.Linear(32, 1)\n",
        "       \n",
        "    def forward(self, x):\n",
        "        \n",
        "        x = F.relu(self.fc1(x))\n",
        "        x = F.relu(self.fc2(x))\n",
        "        x = F.relu(self.fc3(x))\n",
        "        x = F.relu(self.fc4(x))\n",
        "        x = F.relu(self.fc5(x))\n",
        "        x = F.relu(self.fc6(x))\n",
        "        x = F.relu(self.fc7(x))\n",
        "\n",
        "        return x\n",
        "\n",
        "model = Regressor()"
      ],
      "execution_count": null,
      "outputs": []
    },
    {
      "cell_type": "markdown",
      "metadata": {
        "id": "V72rpYEB7mEe",
        "colab_type": "text"
      },
      "source": [
        "## Training parameters :"
      ]
    },
    {
      "cell_type": "code",
      "metadata": {
        "id": "2ttQBHV_7iw1",
        "colab_type": "code",
        "colab": {}
      },
      "source": [
        "train_losses, val_losses = [], []\n",
        "criterion = nn.MSELoss()\n",
        "optimizer = optim.Adam(model.parameters(), lr=0.005) #0.005\n",
        "scheduler = torch.optim.lr_scheduler.ReduceLROnPlateau(optimizer, 'min',factor=0.5, patience=2) \n",
        "total_epochs=0"
      ],
      "execution_count": null,
      "outputs": []
    },
    {
      "cell_type": "markdown",
      "metadata": {
        "id": "v6dRMoKc7h-N",
        "colab_type": "text"
      },
      "source": [
        "## The Training Loop :"
      ]
    },
    {
      "cell_type": "code",
      "metadata": {
        "id": "3RG0pxmYv3_y",
        "colab_type": "code",
        "colab": {
          "base_uri": "https://localhost:8080/",
          "height": 138,
          "referenced_widgets": [
            "fc371121c8f54834a122491d648e2dbe",
            "1b5c9749ef964511b9accd29c77cc3c1",
            "763418e4f672426fb9ecee1e6f8c956d",
            "08f9114536bb4cb9961cff6cb17fc91f",
            "d4eade9243024107bd76c46d590b1e31",
            "22acad1064d54763b438be01df5a89e4",
            "d7e1353f66914ad2abdcaa519cc5dd9a",
            "e4d4e2084be04890b0777701a8e59ac2"
          ]
        },
        "outputId": "1aebb56d-7827-47fa-f814-77b7a7efa13c"
      },
      "source": [
        "#one epoch at a time\n",
        "epochs = 1\n",
        "total_epochs+=epochs\n",
        "\n",
        "for e in tnrange(epochs):\n",
        "    \n",
        "    model.train()\n",
        "    train_loss = 0\n",
        "    val_loss_1=0\n",
        "    val_loss_sum = 0\n",
        "    \n",
        "    for i in range(len(train_batch)):\n",
        "        \n",
        "        optimizer.zero_grad()\n",
        "        output = model(train_batch[i])\n",
        "        \n",
        "        loss = criterion(output, label_batch[i])\n",
        "        loss.backward()\n",
        "        optimizer.step()\n",
        "        train_loss += loss.item()\n",
        "    \n",
        "        with torch.no_grad():\n",
        "            \n",
        "            for j in range(len(val_batch)):\n",
        "                \n",
        "                val_output = model(val_batch[j])\n",
        "                val_loss =  criterion(val_output, val_label_batch[j])\n",
        "                val_loss_1+=val_loss.item()\n",
        "        val_loss_sum=val_loss_1/len(val_batch)\n",
        "        \n",
        "        \n",
        "    print(\"Epoch :\", e, \"train_loss :\", train_loss/len(train_batch), \"Val loss: \", val_loss_sum/len(val_batch))    \n",
        "    val_losses.append(val_loss_sum/len(val_batch))    \n",
        "    train_losses.append(train_loss/len(train_batch))   "
      ],
      "execution_count": null,
      "outputs": [
        {
          "output_type": "stream",
          "text": [
            "/usr/local/lib/python3.6/dist-packages/ipykernel_launcher.py:4: TqdmDeprecationWarning: Please use `tqdm.notebook.trange` instead of `tqdm.tnrange`\n",
            "  after removing the cwd from sys.path.\n"
          ],
          "name": "stderr"
        },
        {
          "output_type": "display_data",
          "data": {
            "application/vnd.jupyter.widget-view+json": {
              "model_id": "fc371121c8f54834a122491d648e2dbe",
              "version_minor": 0,
              "version_major": 2
            },
            "text/plain": [
              "HBox(children=(FloatProgress(value=0.0, max=1.0), HTML(value='')))"
            ]
          },
          "metadata": {
            "tags": []
          }
        },
        {
          "output_type": "stream",
          "text": [
            "Epoch : 0 train_loss : 0.03842194688506424 Val loss:  0.05790859786262354\n",
            "\n"
          ],
          "name": "stdout"
        }
      ]
    },
    {
      "cell_type": "markdown",
      "metadata": {
        "id": "QnN9bzKr708s",
        "colab_type": "text"
      },
      "source": [
        "## How well does the model perform on the test-set?\n"
      ]
    },
    {
      "cell_type": "code",
      "metadata": {
        "id": "_bxg4hQrv37p",
        "colab_type": "code",
        "colab": {
          "base_uri": "https://localhost:8080/",
          "height": 34
        },
        "outputId": "d02a994f-02eb-4312-927a-43fa22d22fbd"
      },
      "source": [
        "correct=0\n",
        "i=0\n",
        "res=[]\n",
        "with torch.no_grad():\n",
        "    for batch in test_batch :\n",
        "        for j in range(len(batch)):\n",
        "            x = model(batch[j])\n",
        "            #print(round(x.item()))\n",
        "            res.append(round(x.item()))\n",
        "\n",
        "true_labels= list(test['y_\"yes\"'])\n",
        "\n",
        "for i in range(len(res)):\n",
        "    if res[i]==int(true_labels[i]):\n",
        "        correct+=1\n",
        "        \n",
        "print(\"Accuracy:\", 100*(correct/len(res)), \"%\")"
      ],
      "execution_count": null,
      "outputs": [
        {
          "output_type": "stream",
          "text": [
            "Accuracy: 93.62097440132122 %\n"
          ],
          "name": "stdout"
        }
      ]
    },
    {
      "cell_type": "markdown",
      "metadata": {
        "id": "J6pWx_HG76od",
        "colab_type": "text"
      },
      "source": [
        "## Training Metrics :"
      ]
    },
    {
      "cell_type": "code",
      "metadata": {
        "id": "U9yMdDSxUo_b",
        "colab_type": "code",
        "colab": {
          "base_uri": "https://localhost:8080/",
          "height": 296
        },
        "outputId": "f90c1e11-0ef8-4179-cb39-030b95673ecc"
      },
      "source": [
        "frm=0 # does not \n",
        "plt.plot(train_losses[frm:], label='Training loss')\n",
        "plt.plot(val_losses[frm:], label='Validation loss')\n",
        "plt.xlabel(\"Loss\")\n",
        "plt.ylabel(\"Epochs\")\n",
        "plt.grid()\n",
        "plt.legend()"
      ],
      "execution_count": null,
      "outputs": [
        {
          "output_type": "execute_result",
          "data": {
            "text/plain": [
              "<matplotlib.legend.Legend at 0x7f6fee9d1978>"
            ]
          },
          "metadata": {
            "tags": []
          },
          "execution_count": 164
        },
        {
          "output_type": "display_data",
          "data": {
            "image/png": "[encoded data removed]",
            "text/plain": [
              "<Figure size 432x288 with 1 Axes>"
            ]
          },
          "metadata": {
            "tags": [],
            "needs_background": "light"
          }
        }
      ]
    },
    {
      "cell_type": "markdown",
      "metadata": {
        "id": "r12hO0iS7_Qa",
        "colab_type": "text"
      },
      "source": [
        "### Save Model :"
      ]
    },
    {
      "cell_type": "code",
      "metadata": {
        "id": "ToYgagaS0j0s",
        "colab_type": "code",
        "colab": {}
      },
      "source": [
        "torch.save(model.state_dict(), './model_9362.pt')"
      ],
      "execution_count": null,
      "outputs": []
    },
    {
      "cell_type": "code",
      "metadata": {
        "id": "TAZsQE7awVr2",
        "colab_type": "code",
        "colab": {}
      },
      "source": [
        ""
      ],
      "execution_count": null,
      "outputs": []
    }
  ]
}